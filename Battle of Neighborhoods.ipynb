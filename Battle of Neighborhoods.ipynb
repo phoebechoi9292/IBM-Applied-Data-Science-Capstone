{
 "cells": [
  {
   "cell_type": "markdown",
   "metadata": {},
   "source": [
    "# IBM Applied Data Science Capstone: Battle of Neighborhoods\n",
    "Presented by: Phoebe Choi"
   ]
  },
  {
   "cell_type": "markdown",
   "metadata": {},
   "source": [
    "## Introduction\n",
    "In my final project of IBM Applied Data Science course, I want to know more about the city that I live in: Vancouver. I really like to go out and dine in with my friends on leisure time and we all like Chinese food. Hence, I want to investigate where can I find the best Chinese restaurant in Vancouver."
   ]
  },
  {
   "cell_type": "markdown",
   "metadata": {},
   "source": [
    "## Dataset\n",
    "In order to start solving the problem, I need to have the dataset ready. Here are the two datasets that I will use:\n",
    "1. A csv file that contains the postal code, borough, and neighborbood\n",
    "2. Foursquare API location data to get information about restaurants and their ratings"
   ]
  },
  {
   "cell_type": "code",
   "execution_count": null,
   "metadata": {},
   "outputs": [],
   "source": []
  }
 ],
 "metadata": {
  "kernelspec": {
   "display_name": "Python 3",
   "language": "python",
   "name": "python3"
  },
  "language_info": {
   "codemirror_mode": {
    "name": "ipython",
    "version": 3
   },
   "file_extension": ".py",
   "mimetype": "text/x-python",
   "name": "python",
   "nbconvert_exporter": "python",
   "pygments_lexer": "ipython3",
   "version": "3.7.3"
  }
 },
 "nbformat": 4,
 "nbformat_minor": 2
}
